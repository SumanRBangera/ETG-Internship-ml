{
 "cells": [
  {
   "cell_type": "code",
   "execution_count": 1,
   "metadata": {},
   "outputs": [],
   "source": [
    "import numpy as np\n",
    "import pandas as pd"
   ]
  },
  {
   "cell_type": "code",
   "execution_count": 2,
   "metadata": {},
   "outputs": [],
   "source": [
    "df = pd.read_csv('summer.csv')"
   ]
  },
  {
   "cell_type": "code",
   "execution_count": 3,
   "metadata": {},
   "outputs": [
    {
     "data": {
      "text/html": [
       "<div>\n",
       "<style scoped>\n",
       "    .dataframe tbody tr th:only-of-type {\n",
       "        vertical-align: middle;\n",
       "    }\n",
       "\n",
       "    .dataframe tbody tr th {\n",
       "        vertical-align: top;\n",
       "    }\n",
       "\n",
       "    .dataframe thead th {\n",
       "        text-align: right;\n",
       "    }\n",
       "</style>\n",
       "<table border=\"1\" class=\"dataframe\">\n",
       "  <thead>\n",
       "    <tr style=\"text-align: right;\">\n",
       "      <th></th>\n",
       "      <th>Year</th>\n",
       "      <th>City</th>\n",
       "      <th>Sport</th>\n",
       "      <th>Discipline</th>\n",
       "      <th>Athlete</th>\n",
       "      <th>Country</th>\n",
       "      <th>Gender</th>\n",
       "      <th>Event</th>\n",
       "      <th>Medal</th>\n",
       "    </tr>\n",
       "  </thead>\n",
       "  <tbody>\n",
       "    <tr>\n",
       "      <th>0</th>\n",
       "      <td>1896</td>\n",
       "      <td>Athens</td>\n",
       "      <td>Aquatics</td>\n",
       "      <td>Swimming</td>\n",
       "      <td>HAJOS, Alfred</td>\n",
       "      <td>HUN</td>\n",
       "      <td>Men</td>\n",
       "      <td>100M Freestyle</td>\n",
       "      <td>Gold</td>\n",
       "    </tr>\n",
       "    <tr>\n",
       "      <th>1</th>\n",
       "      <td>1896</td>\n",
       "      <td>Athens</td>\n",
       "      <td>Aquatics</td>\n",
       "      <td>Swimming</td>\n",
       "      <td>HERSCHMANN, Otto</td>\n",
       "      <td>AUT</td>\n",
       "      <td>Men</td>\n",
       "      <td>100M Freestyle</td>\n",
       "      <td>Silver</td>\n",
       "    </tr>\n",
       "    <tr>\n",
       "      <th>2</th>\n",
       "      <td>1896</td>\n",
       "      <td>Athens</td>\n",
       "      <td>Aquatics</td>\n",
       "      <td>Swimming</td>\n",
       "      <td>DRIVAS, Dimitrios</td>\n",
       "      <td>GRE</td>\n",
       "      <td>Men</td>\n",
       "      <td>100M Freestyle For Sailors</td>\n",
       "      <td>Bronze</td>\n",
       "    </tr>\n",
       "    <tr>\n",
       "      <th>3</th>\n",
       "      <td>1896</td>\n",
       "      <td>Athens</td>\n",
       "      <td>Aquatics</td>\n",
       "      <td>Swimming</td>\n",
       "      <td>MALOKINIS, Ioannis</td>\n",
       "      <td>GRE</td>\n",
       "      <td>Men</td>\n",
       "      <td>100M Freestyle For Sailors</td>\n",
       "      <td>Gold</td>\n",
       "    </tr>\n",
       "    <tr>\n",
       "      <th>4</th>\n",
       "      <td>1896</td>\n",
       "      <td>Athens</td>\n",
       "      <td>Aquatics</td>\n",
       "      <td>Swimming</td>\n",
       "      <td>CHASAPIS, Spiridon</td>\n",
       "      <td>GRE</td>\n",
       "      <td>Men</td>\n",
       "      <td>100M Freestyle For Sailors</td>\n",
       "      <td>Silver</td>\n",
       "    </tr>\n",
       "    <tr>\n",
       "      <th>...</th>\n",
       "      <td>...</td>\n",
       "      <td>...</td>\n",
       "      <td>...</td>\n",
       "      <td>...</td>\n",
       "      <td>...</td>\n",
       "      <td>...</td>\n",
       "      <td>...</td>\n",
       "      <td>...</td>\n",
       "      <td>...</td>\n",
       "    </tr>\n",
       "    <tr>\n",
       "      <th>31160</th>\n",
       "      <td>2012</td>\n",
       "      <td>London</td>\n",
       "      <td>Wrestling</td>\n",
       "      <td>Wrestling Freestyle</td>\n",
       "      <td>JANIKOWSKI, Damian</td>\n",
       "      <td>POL</td>\n",
       "      <td>Men</td>\n",
       "      <td>Wg 84 KG</td>\n",
       "      <td>Bronze</td>\n",
       "    </tr>\n",
       "    <tr>\n",
       "      <th>31161</th>\n",
       "      <td>2012</td>\n",
       "      <td>London</td>\n",
       "      <td>Wrestling</td>\n",
       "      <td>Wrestling Freestyle</td>\n",
       "      <td>REZAEI, Ghasem Gholamreza</td>\n",
       "      <td>IRI</td>\n",
       "      <td>Men</td>\n",
       "      <td>Wg 96 KG</td>\n",
       "      <td>Gold</td>\n",
       "    </tr>\n",
       "    <tr>\n",
       "      <th>31162</th>\n",
       "      <td>2012</td>\n",
       "      <td>London</td>\n",
       "      <td>Wrestling</td>\n",
       "      <td>Wrestling Freestyle</td>\n",
       "      <td>TOTROV, Rustam</td>\n",
       "      <td>RUS</td>\n",
       "      <td>Men</td>\n",
       "      <td>Wg 96 KG</td>\n",
       "      <td>Silver</td>\n",
       "    </tr>\n",
       "    <tr>\n",
       "      <th>31163</th>\n",
       "      <td>2012</td>\n",
       "      <td>London</td>\n",
       "      <td>Wrestling</td>\n",
       "      <td>Wrestling Freestyle</td>\n",
       "      <td>ALEKSANYAN, Artur</td>\n",
       "      <td>ARM</td>\n",
       "      <td>Men</td>\n",
       "      <td>Wg 96 KG</td>\n",
       "      <td>Bronze</td>\n",
       "    </tr>\n",
       "    <tr>\n",
       "      <th>31164</th>\n",
       "      <td>2012</td>\n",
       "      <td>London</td>\n",
       "      <td>Wrestling</td>\n",
       "      <td>Wrestling Freestyle</td>\n",
       "      <td>LIDBERG, Jimmy</td>\n",
       "      <td>SWE</td>\n",
       "      <td>Men</td>\n",
       "      <td>Wg 96 KG</td>\n",
       "      <td>Bronze</td>\n",
       "    </tr>\n",
       "  </tbody>\n",
       "</table>\n",
       "<p>31165 rows × 9 columns</p>\n",
       "</div>"
      ],
      "text/plain": [
       "       Year    City      Sport           Discipline  \\\n",
       "0      1896  Athens   Aquatics             Swimming   \n",
       "1      1896  Athens   Aquatics             Swimming   \n",
       "2      1896  Athens   Aquatics             Swimming   \n",
       "3      1896  Athens   Aquatics             Swimming   \n",
       "4      1896  Athens   Aquatics             Swimming   \n",
       "...     ...     ...        ...                  ...   \n",
       "31160  2012  London  Wrestling  Wrestling Freestyle   \n",
       "31161  2012  London  Wrestling  Wrestling Freestyle   \n",
       "31162  2012  London  Wrestling  Wrestling Freestyle   \n",
       "31163  2012  London  Wrestling  Wrestling Freestyle   \n",
       "31164  2012  London  Wrestling  Wrestling Freestyle   \n",
       "\n",
       "                         Athlete Country Gender                       Event  \\\n",
       "0                  HAJOS, Alfred     HUN    Men              100M Freestyle   \n",
       "1               HERSCHMANN, Otto     AUT    Men              100M Freestyle   \n",
       "2              DRIVAS, Dimitrios     GRE    Men  100M Freestyle For Sailors   \n",
       "3             MALOKINIS, Ioannis     GRE    Men  100M Freestyle For Sailors   \n",
       "4             CHASAPIS, Spiridon     GRE    Men  100M Freestyle For Sailors   \n",
       "...                          ...     ...    ...                         ...   \n",
       "31160         JANIKOWSKI, Damian     POL    Men                    Wg 84 KG   \n",
       "31161  REZAEI, Ghasem Gholamreza     IRI    Men                    Wg 96 KG   \n",
       "31162             TOTROV, Rustam     RUS    Men                    Wg 96 KG   \n",
       "31163          ALEKSANYAN, Artur     ARM    Men                    Wg 96 KG   \n",
       "31164             LIDBERG, Jimmy     SWE    Men                    Wg 96 KG   \n",
       "\n",
       "        Medal  \n",
       "0        Gold  \n",
       "1      Silver  \n",
       "2      Bronze  \n",
       "3        Gold  \n",
       "4      Silver  \n",
       "...       ...  \n",
       "31160  Bronze  \n",
       "31161    Gold  \n",
       "31162  Silver  \n",
       "31163  Bronze  \n",
       "31164  Bronze  \n",
       "\n",
       "[31165 rows x 9 columns]"
      ]
     },
     "execution_count": 3,
     "metadata": {},
     "output_type": "execute_result"
    }
   ],
   "source": [
    "df"
   ]
  },
  {
   "cell_type": "markdown",
   "metadata": {},
   "source": [
    "# 1. In how many cities Summer Olympics is held so far?"
   ]
  },
  {
   "cell_type": "code",
   "execution_count": 8,
   "metadata": {},
   "outputs": [],
   "source": [
    "cities = len(df['City'].unique())"
   ]
  },
  {
   "cell_type": "code",
   "execution_count": 9,
   "metadata": {},
   "outputs": [
    {
     "name": "stdout",
     "output_type": "stream",
     "text": [
      "The number of cities Summer Olympics held is :  22\n"
     ]
    }
   ],
   "source": [
    "print(\"The number of cities Summer Olympics held is : \",cities)"
   ]
  },
  {
   "cell_type": "markdown",
   "metadata": {},
   "source": [
    "# 2. Which sport is having most number of Gold Medals so far? (Top 5)"
   ]
  },
  {
   "cell_type": "code",
   "execution_count": 4,
   "metadata": {},
   "outputs": [],
   "source": [
    "import matplotlib.pyplot as plt"
   ]
  },
  {
   "cell_type": "code",
   "execution_count": 5,
   "metadata": {},
   "outputs": [],
   "source": [
    "data = df.values"
   ]
  },
  {
   "cell_type": "code",
   "execution_count": 6,
   "metadata": {},
   "outputs": [
    {
     "name": "stdout",
     "output_type": "stream",
     "text": [
      "Sport :  Aquatics\n",
      "Number of Gold Medals : 1421\n",
      "-------------------------------------\n",
      "Sport :  Athletics\n",
      "Number of Gold Medals : 1215\n",
      "-------------------------------------\n",
      "Sport :  Rowing\n",
      "Number of Gold Medals : 890\n",
      "-------------------------------------\n",
      "Sport :  Gymnastics\n",
      "Number of Gold Medals : 820\n",
      "-------------------------------------\n",
      "Sport :  Fencing\n",
      "Number of Gold Medals : 552\n",
      "-------------------------------------\n"
     ]
    }
   ],
   "source": [
    "dictn_one = {}\n",
    "for sp in df['Sport'].unique():\n",
    "    count = 0\n",
    "    for i in range(len(data)):\n",
    "        if data[i][8] == 'Gold' and data[i][2] == sp:\n",
    "            count += 1\n",
    "    dictn_one[sp] = dictn_one.get(sp, 0) + count\n",
    "\n",
    "dictn_one = dict(sorted(dictn_one.items(),key = lambda x:x[1],reverse = True)[0:5])\n",
    "\n",
    "for i in dictn_one.keys():\n",
    "    print(\"Sport : \",i)\n",
    "    print(\"Number of Gold Medals :\",dictn_one[i])\n",
    "    print(\"-------------------------------------\")"
   ]
  },
  {
   "cell_type": "code",
   "execution_count": 7,
   "metadata": {},
   "outputs": [
    {
     "data": {
      "image/png": "[encoded data removed]",
      "text/plain": [
       "<Figure size 432x288 with 1 Axes>"
      ]
     },
     "metadata": {
      "needs_background": "light"
     },
     "output_type": "display_data"
    }
   ],
   "source": [
    "x_val = list(dictn_one.keys())\n",
    "y_val = list(dictn_one.values())\n",
    "\n",
    "plt.bar(x_val,y_val, color ='blue',width = 0.5)\n",
    "\n",
    "plt.ylabel(\"Number of Gold Medals\")\n",
    "plt.show()"
   ]
  },
  {
   "cell_type": "markdown",
   "metadata": {},
   "source": [
    "# 3. Which sport is having most number of medals so far? (Top 5)"
   ]
  },
  {
   "cell_type": "code",
   "execution_count": 10,
   "metadata": {},
   "outputs": [
    {
     "name": "stdout",
     "output_type": "stream",
     "text": [
      "Sport :  Aquatics\n",
      "Number of  Medals : 4170\n",
      "-------------------------------------\n",
      "Sport :  Athletics\n",
      "Number of  Medals : 3638\n",
      "-------------------------------------\n",
      "Sport :  Rowing\n",
      "Number of  Medals : 2667\n",
      "-------------------------------------\n",
      "Sport :  Gymnastics\n",
      "Number of  Medals : 2307\n",
      "-------------------------------------\n",
      "Sport :  Fencing\n",
      "Number of  Medals : 1613\n",
      "-------------------------------------\n"
     ]
    }
   ],
   "source": [
    "dictn_two = {}\n",
    "for sp in df['Sport'].unique():\n",
    "    count = 0\n",
    "    for i in range(len(data)):\n",
    "        if data[i][2] == sp and data[i][8] != None:\n",
    "            count += 1\n",
    "    dictn_two[sp] = dictn_two.get(sp, 0) + count\n",
    "dictn_two = dict(sorted(dictn_two.items(),key = lambda x:x[1],reverse = True)[0:5])\n",
    "\n",
    "for i in dictn_two.keys():\n",
    "    print(\"Sport : \",i)\n",
    "    print(\"Number of  Medals :\",dictn_two[i])\n",
    "    print(\"-------------------------------------\")"
   ]
  },
  {
   "cell_type": "code",
   "execution_count": 11,
   "metadata": {},
   "outputs": [
    {
     "data": {
      "image/png": "[encoded data removed]",
      "text/plain": [
       "<Figure size 432x288 with 1 Axes>"
      ]
     },
     "metadata": {
      "needs_background": "light"
     },
     "output_type": "display_data"
    }
   ],
   "source": [
    "x_val = list(dictn_two.keys())\n",
    "y_val = list(dictn_two.values())\n",
    "\n",
    "plt.bar(x_val,y_val, color ='blue',width = 0.5)\n",
    "\n",
    "plt.ylabel(\"Number of Medals\")\n",
    "plt.show()\n"
   ]
  },
  {
   "cell_type": "markdown",
   "metadata": {},
   "source": [
    "# 4. Which player has won most number of medals? (Top 5)"
   ]
  },
  {
   "cell_type": "code",
   "execution_count": 12,
   "metadata": {},
   "outputs": [
    {
     "name": "stdout",
     "output_type": "stream",
     "text": [
      "Name :   Vladimir\n",
      "Number of  Medals : 198\n",
      "-------------------------------------\n",
      "Name :   Michael\n",
      "Number of  Medals : 146\n",
      "-------------------------------------\n",
      "Name :   Robert\n",
      "Number of  Medals : 141\n",
      "-------------------------------------\n",
      "Name :   Aleksandr\n",
      "Number of  Medals : 136\n",
      "-------------------------------------\n",
      "Name :  KIM\n",
      "Number of  Medals : 128\n",
      "-------------------------------------\n"
     ]
    }
   ],
   "source": [
    "dictn_three = {}\n",
    "for i in range(len(data)):\n",
    "    player = []\n",
    "    player = data[i][4].split(\",\")\n",
    "    for k in player:\n",
    "        if k not in dictn_three.keys():\n",
    "            dictn_three[k] = 1\n",
    "        else:\n",
    "            dictn_three[k] = dictn_three.get(k, 0) + 1\n",
    "dictn_three  = dict(sorted(dictn_three .items(),key = lambda x:x[1],reverse = True)[0:5])\n",
    "\n",
    "for i in dictn_three.keys():\n",
    "    print(\"Name : \",i)\n",
    "    print(\"Number of  Medals :\",dictn_three[i])\n",
    "    print(\"-------------------------------------\")"
   ]
  },
  {
   "cell_type": "code",
   "execution_count": 13,
   "metadata": {},
   "outputs": [
    {
     "data": {
      "image/png": "[encoded data removed]",
      "text/plain": [
       "<Figure size 432x288 with 1 Axes>"
      ]
     },
     "metadata": {
      "needs_background": "light"
     },
     "output_type": "display_data"
    }
   ],
   "source": [
    "x_val = list(dictn_three .keys())\n",
    "y_val = list(dictn_three .values())\n",
    "\n",
    "plt.bar(x_val,y_val, color ='blue',width = 0.5)\n",
    "\n",
    "plt.ylabel(\"Number of Medals\")\n",
    "plt.show()"
   ]
  },
  {
   "cell_type": "markdown",
   "metadata": {},
   "source": [
    "# 5. Which player has won most number Gold Medals of medals? (Top 5)"
   ]
  },
  {
   "cell_type": "code",
   "execution_count": 14,
   "metadata": {},
   "outputs": [
    {
     "name": "stdout",
     "output_type": "stream",
     "text": [
      "Name :   Vladimir\n",
      "Number of Gold  Medals : 66\n",
      "-------------------------------------\n",
      "Name :   Michael\n",
      "Number of Gold  Medals : 66\n",
      "-------------------------------------\n",
      "Name :   Robert\n",
      "Number of Gold  Medals : 56\n",
      "-------------------------------------\n",
      "Name :   Aleksandr\n",
      "Number of Gold  Medals : 53\n",
      "-------------------------------------\n",
      "Name :   Elena\n",
      "Number of Gold  Medals : 48\n",
      "-------------------------------------\n"
     ]
    }
   ],
   "source": [
    "dictn_four = {}\n",
    "for i in range(len(data)):\n",
    "    if data[i][8] == 'Gold':\n",
    "        player1 = []\n",
    "        player1 = data[i][4].split(\",\")\n",
    "        for k in player1:\n",
    "            if k not in dictn_four.keys():\n",
    "                dictn_four[k] = 1\n",
    "            else:\n",
    "                dictn_four[k] = dictn_four.get(k, 0) + 1\n",
    "dictn_four = dict(sorted(dictn_four.items(),key = lambda x:x[1],reverse = True)[0:5])\n",
    "\n",
    "for i in dictn_four.keys():\n",
    "    print(\"Name : \",i)\n",
    "    print(\"Number of Gold  Medals :\",dictn_four[i])\n",
    "    print(\"-------------------------------------\")"
   ]
  },
  {
   "cell_type": "code",
   "execution_count": 15,
   "metadata": {},
   "outputs": [
    {
     "data": {
      "image/png": "[encoded data removed]",
      "text/plain": [
       "<Figure size 432x288 with 1 Axes>"
      ]
     },
     "metadata": {
      "needs_background": "light"
     },
     "output_type": "display_data"
    }
   ],
   "source": [
    "x_val = list(dictn_four.keys())\n",
    "y_val = list(dictn_four.values())\n",
    "\n",
    "plt.bar(x_val,y_val, color ='blue',width = 0.5)\n",
    "\n",
    "plt.ylabel(\"Number of Gold  Medals\")\n",
    "plt.show()"
   ]
  },
  {
   "cell_type": "markdown",
   "metadata": {},
   "source": [
    "# 6. In which year India won first Gold Medal in Summer Olympics?"
   ]
  },
  {
   "cell_type": "code",
   "execution_count": 16,
   "metadata": {},
   "outputs": [
    {
     "name": "stdout",
     "output_type": "stream",
     "text": [
      "India won First Gold Medal in the year 1928\n"
     ]
    }
   ],
   "source": [
    "list1 = []\n",
    "for i in range(len(data)):\n",
    "    if  data[i][8] == 'Gold' and data[i][5] == 'IND':\n",
    "        year = data[i][0]\n",
    "        break\n",
    "print(\"India won First Gold Medal in the year\",year)"
   ]
  },
  {
   "cell_type": "markdown",
   "metadata": {},
   "source": [
    "# 7. Which event is most popular in terms on number of players? (Top 5)"
   ]
  },
  {
   "cell_type": "code",
   "execution_count": 17,
   "metadata": {},
   "outputs": [
    {
     "name": "stdout",
     "output_type": "stream",
     "text": [
      "Event :  Football\n",
      "Number of Players : 2899\n",
      "-------------------------------------\n",
      "Event :  Hockey\n",
      "Number of Players : 2844\n",
      "-------------------------------------\n",
      "Event :  Team Competition\n",
      "Number of Players : 2294\n",
      "-------------------------------------\n",
      "Event :  Basketball\n",
      "Number of Players : 2025\n",
      "-------------------------------------\n",
      "Event :  Handball\n",
      "Number of Players : 1946\n",
      "-------------------------------------\n"
     ]
    }
   ],
   "source": [
    "dictn_five = {}\n",
    "for ev in df['Event'].unique():\n",
    "    count = 0\n",
    "    for i in range(len(data)):\n",
    "        if data[i][7] == ev:\n",
    "            a = data[i][4]\n",
    "            count = count + len(a.split(\",\"))\n",
    "    dictn_five[ev] = dictn_five.get(ev, 0) + count\n",
    "dictn_five = dict(sorted(dictn_five.items(),key = lambda x:x[1],reverse = True)[0:5])\n",
    "\n",
    "for i in dictn_five.keys():\n",
    "    print(\"Event : \",i)\n",
    "    print(\"Number of Players :\",dictn_five[i])\n",
    "    print(\"-------------------------------------\")"
   ]
  },
  {
   "cell_type": "code",
   "execution_count": 18,
   "metadata": {},
   "outputs": [
    {
     "data": {
      "image/png": "[encoded data removed]",
      "text/plain": [
       "<Figure size 432x288 with 1 Axes>"
      ]
     },
     "metadata": {
      "needs_background": "light"
     },
     "output_type": "display_data"
    }
   ],
   "source": [
    "x_val = list(dictn_five.keys())\n",
    "y_val = list(dictn_five.values())\n",
    "\n",
    "plt.bar(x_val,y_val, color ='blue',width = 0.3)\n",
    "\n",
    "plt.ylabel(\"Number of Players\")\n",
    "plt.show()"
   ]
  },
  {
   "cell_type": "markdown",
   "metadata": {},
   "source": [
    "# 8. Which sport is having most female Gold Medalists? (Top 5)"
   ]
  },
  {
   "cell_type": "code",
   "execution_count": 19,
   "metadata": {},
   "outputs": [
    {
     "name": "stdout",
     "output_type": "stream",
     "text": [
      "Sport :  Aquatics\n",
      "Number of Gold Medals : 589\n",
      "-------------------------------------\n",
      "Sport :  Athletics\n",
      "Number of Gold Medals : 389\n",
      "-------------------------------------\n",
      "Sport :  Gymnastics\n",
      "Number of Gold Medals : 268\n",
      "-------------------------------------\n",
      "Sport :  Rowing\n",
      "Number of Gold Medals : 217\n",
      "-------------------------------------\n",
      "Sport :  Volleyball\n",
      "Number of Gold Medals : 166\n",
      "-------------------------------------\n"
     ]
    }
   ],
   "source": [
    "dictn_six = {}\n",
    "for sp in df['Sport'].unique():\n",
    "    count = 0\n",
    "    for i in range(len(data)):\n",
    "        if data[i][8] == 'Gold' and data[i][2] == sp and data[i][6] == 'Women':\n",
    "            count += 1\n",
    "    dictn_six[sp] = dictn_six.get(sp, 0) + count\n",
    "\n",
    "dictn_six = dict(sorted(dictn_six.items(),key = lambda x:x[1],reverse = True)[0:5])\n",
    "\n",
    "for i in dictn_six.keys():\n",
    "    print(\"Sport : \",i)\n",
    "    print(\"Number of Gold Medals :\",dictn_six[i])\n",
    "    print(\"-------------------------------------\")"
   ]
  },
  {
   "cell_type": "code",
   "execution_count": 20,
   "metadata": {},
   "outputs": [
    {
     "data": {
      "image/png": "[encoded data removed]",
      "text/plain": [
       "<Figure size 432x288 with 1 Axes>"
      ]
     },
     "metadata": {
      "needs_background": "light"
     },
     "output_type": "display_data"
    }
   ],
   "source": [
    "x_val = list(dictn_six.keys())\n",
    "y_val = list(dictn_six.values())\n",
    "\n",
    "plt.bar(x_val,y_val, color ='blue',width = 0.5)\n",
    "\n",
    "plt.ylabel(\"Number of Women Gold Medalists\")\n",
    "plt.show()"
   ]
  },
  {
   "cell_type": "code",
   "execution_count": null,
   "metadata": {},
   "outputs": [],
   "source": []
  }
 ],
 "metadata": {
  "kernelspec": {
   "display_name": "Python 3",
   "language": "python",
   "name": "python3"
  },
  "language_info": {
   "codemirror_mode": {
    "name": "ipython",
    "version": 3
   },
   "file_extension": ".py",
   "mimetype": "text/x-python",
   "name": "python",
   "nbconvert_exporter": "python",
   "pygments_lexer": "ipython3",
   "version": "3.8.5"
  }
 },
 "nbformat": 4,
 "nbformat_minor": 4
}
