{
 "cells": [
  {
   "cell_type": "markdown",
   "metadata": {},
   "source": [
    "# Reading the Data from the Json File"
   ]
  },
  {
   "cell_type": "code",
   "execution_count": 3,
   "metadata": {},
   "outputs": [],
   "source": [
    "import json\n",
    "\n",
    "fd = open(\"Records.json\",'r')\n",
    "r = fd.read()\n",
    "fd.close()\n",
    "Record = json.loads(r)"
   ]
  },
  {
   "cell_type": "code",
   "execution_count": 4,
   "metadata": {},
   "outputs": [
    {
     "data": {
      "text/plain": [
       "{'1001': {'Name': 'Fish',\n",
       "  'Quantity': 30,\n",
       "  'Price': 10,\n",
       "  'Discount': '4%',\n",
       "  'MRP': 50},\n",
       " '1000': {'Name': 'Cake',\n",
       "  'Price': 800,\n",
       "  'Quantity': 100,\n",
       "  'Discount': '10%',\n",
       "  'MRP': 900},\n",
       " '1003': {'Name': 'Drink',\n",
       "  'Price': 85,\n",
       "  'Quantity': 100,\n",
       "  'Discount': '15%',\n",
       "  'MRP': 100},\n",
       " '1004': {'Name': 'Candy',\n",
       "  'Price': 5,\n",
       "  'Quantity': 1000,\n",
       "  'Discount': '0%',\n",
       "  'MRP': 10},\n",
       " '1005': {'Name': 'Pen',\n",
       "  'Price': 20,\n",
       "  'Quantity': 100,\n",
       "  'Discount': '25%',\n",
       "  'MRP': 30},\n",
       " '1006': {'Name': 'Phone',\n",
       "  'Price': 50000,\n",
       "  'Quantity': 10,\n",
       "  'Discount': '20%',\n",
       "  'MRP': 60000},\n",
       " '1007': {'Name': 'Mic',\n",
       "  'Price': 1500,\n",
       "  'Quantity': 0,\n",
       "  'Discount': '10%',\n",
       "  'MRP': 1700},\n",
       " '1008': {'Name': 'Case',\n",
       "  'Price': 599,\n",
       "  'Quantity': 5,\n",
       "  'Discount': '7%',\n",
       "  'MRP': 700},\n",
       " '1009': {'Name': 'Keyboard',\n",
       "  'Price': 1999,\n",
       "  'Quantity': 10,\n",
       "  'Discount': '17%',\n",
       "  'MRP': 2200},\n",
       " '1010': {'Name': 'Book',\n",
       "  'Price': 500,\n",
       "  'Quantity': 30,\n",
       "  'Discount': '2%',\n",
       "  'MRP': 600},\n",
       " '1011': {'Name': 'Calculator',\n",
       "  'Price': 800,\n",
       "  'Quantity': 20,\n",
       "  'Discount': '30%',\n",
       "  'MRP': 1200},\n",
       " '1012': {'Name': 'Laptop',\n",
       "  'Price': 80000,\n",
       "  'Quantity': 10,\n",
       "  'Discount': '30%',\n",
       "  'MRP': 100000},\n",
       " '1013': {'Name': 'Speakers',\n",
       "  'Price': 8000,\n",
       "  'Quantity': 10,\n",
       "  'Discount': '10%',\n",
       "  'MRP': 9000},\n",
       " '1014': {'Name': 'Table',\n",
       "  'Price': 5000,\n",
       "  'Quantity': 15,\n",
       "  'Discount': '20%',\n",
       "  'MRP': 6700},\n",
       " '1015': {'Name': 'Watch',\n",
       "  'Price': 2900,\n",
       "  'Quantity': 20,\n",
       "  'Discount': '30%',\n",
       "  'MRP': 3200},\n",
       " '1016': {'Name': 'Shoe',\n",
       "  'Price': 3000,\n",
       "  'Quantity': 40,\n",
       "  'Discount': '15%',\n",
       "  'MRP': 3200},\n",
       " '1017': {'Name': 'Bag',\n",
       "  'Price': 2200,\n",
       "  'Quantity': 50,\n",
       "  'Discount': '15%',\n",
       "  'MRP': 2400},\n",
       " '1018': {'Name': 'Headset',\n",
       "  'Price': 1700,\n",
       "  'Quantity': 50,\n",
       "  'Discount': '30%',\n",
       "  'MRP': 1900},\n",
       " '1019': {'Name': 'Charger',\n",
       "  'Price': 400,\n",
       "  'Quantity': 30,\n",
       "  'Discount': '10%',\n",
       "  'MRP': 500},\n",
       " '1020': {'Name': 'A/C',\n",
       "  'Price': 30000,\n",
       "  'Quantity': 20,\n",
       "  'Discount': '10%',\n",
       "  'MRP': 33000},\n",
       " '1021': {'Name': 'Hammer',\n",
       "  'Price': 1000,\n",
       "  'Quantity': 10,\n",
       "  'Discount': '0%',\n",
       "  'MRP': 1100},\n",
       " '1022': {'Name': 'Chair',\n",
       "  'Price': 800,\n",
       "  'Quantity': 10,\n",
       "  'Discount': '10%',\n",
       "  'MRP': 1000},\n",
       " '1023': {'Name': 'Table',\n",
       "  'Price': 1800,\n",
       "  'Quantity': 50,\n",
       "  'Discount': '20%',\n",
       "  'MRP': 2000},\n",
       " '1024': {'Name': 'Clock',\n",
       "  'Price': 300,\n",
       "  'Quantity': 20,\n",
       "  'Discount': '3%',\n",
       "  'MRP': 400},\n",
       " '1025': {'Name': 'Pillow',\n",
       "  'Price': 600,\n",
       "  'Quantity': 20,\n",
       "  'Discount': '0%',\n",
       "  'MRP': 600},\n",
       " '1026': {'Name': 'Sofa',\n",
       "  'Price': 5000,\n",
       "  'Quantity': 5,\n",
       "  'Discount': '10%',\n",
       "  'MRP': 5500},\n",
       " '1027': {'Name': 'Ice creame',\n",
       "  'Price': 80,\n",
       "  'Quantity': 20,\n",
       "  'Discount': '0%',\n",
       "  'MRP': 100},\n",
       " '1028': {'Name': 'Camera',\n",
       "  'Price': 4000,\n",
       "  'Quantity': 15,\n",
       "  'Discount': '13%',\n",
       "  'MRP': 4100},\n",
       " '1029': {'Name': 'Tablet',\n",
       "  'Price': 6000,\n",
       "  'Quantity': 17,\n",
       "  'Discount': '10%',\n",
       "  'MRP': 6200},\n",
       " '1030': {'Name': 'Fan',\n",
       "  'Price': 700,\n",
       "  'Quantity': 17,\n",
       "  'Discount': '4%',\n",
       "  'MRP': 757}}"
      ]
     },
     "execution_count": 4,
     "metadata": {},
     "output_type": "execute_result"
    }
   ],
   "source": [
    "Record"
   ]
  },
  {
   "cell_type": "markdown",
   "metadata": {},
   "source": [
    "# Purchasing of the Items"
   ]
  },
  {
   "cell_type": "markdown",
   "metadata": {},
   "source": [
    "# 1."
   ]
  },
  {
   "cell_type": "code",
   "execution_count": 6,
   "metadata": {},
   "outputs": [
    {
     "name": "stdout",
     "output_type": "stream",
     "text": [
      "Enter the Product_Id: 1025\n",
      "Enter the Quantity: 20\n",
      "Product:  Pillow\n",
      "Price:  600\n",
      "Billing Amount:  12000\n"
     ]
    }
   ],
   "source": [
    "Product_id = str(input(\"Enter the Product_Id: \"))\n",
    "Product_qunt = int(input(\"Enter the Quantity: \"))\n",
    "\n",
    "\n",
    "print(\"Product: \", Record[Product_id]['Name'])\n",
    "print(\"Price: \", Record[Product_id]['Price'])\n",
    "print(\"Billing Amount: \", Record[Product_id]['Price'] * Product_qunt)\n",
    "\n",
    "Record[Product_id]['Quantity'] = Record[Product_id]['Quantity'] - Product_qunt"
   ]
  },
  {
   "cell_type": "markdown",
   "metadata": {},
   "source": [
    "# 2."
   ]
  },
  {
   "cell_type": "code",
   "execution_count": 7,
   "metadata": {},
   "outputs": [
    {
     "name": "stdout",
     "output_type": "stream",
     "text": [
      "Enter the Product_Id: 1017\n",
      "Enter the Quantity: 50\n",
      "Product:  Bag\n",
      "Price:  2200\n",
      "Billing Amount:  110000\n"
     ]
    }
   ],
   "source": [
    "Product_id = str(input(\"Enter the Product_Id: \"))\n",
    "Product_qunt = int(input(\"Enter the Quantity: \"))\n",
    "\n",
    "\n",
    "print(\"Product: \", Record[Product_id]['Name'])\n",
    "print(\"Price: \", Record[Product_id]['Price'])\n",
    "print(\"Billing Amount: \", Record[Product_id]['Price'] * Product_qunt)\n",
    "\n",
    "Record[Product_id]['Quantity'] = Record[Product_id]['Quantity'] - Product_qunt"
   ]
  },
  {
   "cell_type": "markdown",
   "metadata": {},
   "source": [
    "# Updating the Inventory after Purchase"
   ]
  },
  {
   "cell_type": "code",
   "execution_count": 8,
   "metadata": {},
   "outputs": [],
   "source": [
    "js = json.dumps(Record)\n",
    "\n",
    "fd = open(\"Records.json\",'w')\n",
    "fd.write(js)\n",
    "fd.close()"
   ]
  },
  {
   "cell_type": "code",
   "execution_count": 9,
   "metadata": {},
   "outputs": [
    {
     "data": {
      "text/plain": [
       "{'1001': {'Name': 'Fish',\n",
       "  'Quantity': 30,\n",
       "  'Price': 10,\n",
       "  'Discount': '4%',\n",
       "  'MRP': 50},\n",
       " '1000': {'Name': 'Cake',\n",
       "  'Price': 800,\n",
       "  'Quantity': 100,\n",
       "  'Discount': '10%',\n",
       "  'MRP': 900},\n",
       " '1003': {'Name': 'Drink',\n",
       "  'Price': 85,\n",
       "  'Quantity': 100,\n",
       "  'Discount': '15%',\n",
       "  'MRP': 100},\n",
       " '1004': {'Name': 'Candy',\n",
       "  'Price': 5,\n",
       "  'Quantity': 1000,\n",
       "  'Discount': '0%',\n",
       "  'MRP': 10},\n",
       " '1005': {'Name': 'Pen',\n",
       "  'Price': 20,\n",
       "  'Quantity': 100,\n",
       "  'Discount': '25%',\n",
       "  'MRP': 30},\n",
       " '1006': {'Name': 'Phone',\n",
       "  'Price': 50000,\n",
       "  'Quantity': 10,\n",
       "  'Discount': '20%',\n",
       "  'MRP': 60000},\n",
       " '1007': {'Name': 'Mic',\n",
       "  'Price': 1500,\n",
       "  'Quantity': 0,\n",
       "  'Discount': '10%',\n",
       "  'MRP': 1700},\n",
       " '1008': {'Name': 'Case',\n",
       "  'Price': 599,\n",
       "  'Quantity': 5,\n",
       "  'Discount': '7%',\n",
       "  'MRP': 700},\n",
       " '1009': {'Name': 'Keyboard',\n",
       "  'Price': 1999,\n",
       "  'Quantity': 10,\n",
       "  'Discount': '17%',\n",
       "  'MRP': 2200},\n",
       " '1010': {'Name': 'Book',\n",
       "  'Price': 500,\n",
       "  'Quantity': 30,\n",
       "  'Discount': '2%',\n",
       "  'MRP': 600},\n",
       " '1011': {'Name': 'Calculator',\n",
       "  'Price': 800,\n",
       "  'Quantity': 20,\n",
       "  'Discount': '30%',\n",
       "  'MRP': 1200},\n",
       " '1012': {'Name': 'Laptop',\n",
       "  'Price': 80000,\n",
       "  'Quantity': 10,\n",
       "  'Discount': '30%',\n",
       "  'MRP': 100000},\n",
       " '1013': {'Name': 'Speakers',\n",
       "  'Price': 8000,\n",
       "  'Quantity': 10,\n",
       "  'Discount': '10%',\n",
       "  'MRP': 9000},\n",
       " '1014': {'Name': 'Table',\n",
       "  'Price': 5000,\n",
       "  'Quantity': 15,\n",
       "  'Discount': '20%',\n",
       "  'MRP': 6700},\n",
       " '1015': {'Name': 'Watch',\n",
       "  'Price': 2900,\n",
       "  'Quantity': 20,\n",
       "  'Discount': '30%',\n",
       "  'MRP': 3200},\n",
       " '1016': {'Name': 'Shoe',\n",
       "  'Price': 3000,\n",
       "  'Quantity': 40,\n",
       "  'Discount': '15%',\n",
       "  'MRP': 3200},\n",
       " '1017': {'Name': 'Bag',\n",
       "  'Price': 2200,\n",
       "  'Quantity': 0,\n",
       "  'Discount': '15%',\n",
       "  'MRP': 2400},\n",
       " '1018': {'Name': 'Headset',\n",
       "  'Price': 1700,\n",
       "  'Quantity': 50,\n",
       "  'Discount': '30%',\n",
       "  'MRP': 1900},\n",
       " '1019': {'Name': 'Charger',\n",
       "  'Price': 400,\n",
       "  'Quantity': 30,\n",
       "  'Discount': '10%',\n",
       "  'MRP': 500},\n",
       " '1020': {'Name': 'A/C',\n",
       "  'Price': 30000,\n",
       "  'Quantity': 20,\n",
       "  'Discount': '10%',\n",
       "  'MRP': 33000},\n",
       " '1021': {'Name': 'Hammer',\n",
       "  'Price': 1000,\n",
       "  'Quantity': 10,\n",
       "  'Discount': '0%',\n",
       "  'MRP': 1100},\n",
       " '1022': {'Name': 'Chair',\n",
       "  'Price': 800,\n",
       "  'Quantity': 10,\n",
       "  'Discount': '10%',\n",
       "  'MRP': 1000},\n",
       " '1023': {'Name': 'Table',\n",
       "  'Price': 1800,\n",
       "  'Quantity': 50,\n",
       "  'Discount': '20%',\n",
       "  'MRP': 2000},\n",
       " '1024': {'Name': 'Clock',\n",
       "  'Price': 300,\n",
       "  'Quantity': 20,\n",
       "  'Discount': '3%',\n",
       "  'MRP': 400},\n",
       " '1025': {'Name': 'Pillow',\n",
       "  'Price': 600,\n",
       "  'Quantity': 0,\n",
       "  'Discount': '0%',\n",
       "  'MRP': 600},\n",
       " '1026': {'Name': 'Sofa',\n",
       "  'Price': 5000,\n",
       "  'Quantity': 5,\n",
       "  'Discount': '10%',\n",
       "  'MRP': 5500},\n",
       " '1027': {'Name': 'Ice creame',\n",
       "  'Price': 80,\n",
       "  'Quantity': 20,\n",
       "  'Discount': '0%',\n",
       "  'MRP': 100},\n",
       " '1028': {'Name': 'Camera',\n",
       "  'Price': 4000,\n",
       "  'Quantity': 15,\n",
       "  'Discount': '13%',\n",
       "  'MRP': 4100},\n",
       " '1029': {'Name': 'Tablet',\n",
       "  'Price': 6000,\n",
       "  'Quantity': 17,\n",
       "  'Discount': '10%',\n",
       "  'MRP': 6200},\n",
       " '1030': {'Name': 'Fan',\n",
       "  'Price': 700,\n",
       "  'Quantity': 17,\n",
       "  'Discount': '4%',\n",
       "  'MRP': 757}}"
      ]
     },
     "execution_count": 9,
     "metadata": {},
     "output_type": "execute_result"
    }
   ],
   "source": [
    "Record"
   ]
  },
  {
   "cell_type": "markdown",
   "metadata": {},
   "source": [
    "# JSON Sales"
   ]
  },
  {
   "cell_type": "code",
   "execution_count": 11,
   "metadata": {},
   "outputs": [
    {
     "data": {
      "text/plain": [
       "{'Product': '1017', 'Quantity': 50, 'Amount': 110000}"
      ]
     },
     "execution_count": 11,
     "metadata": {},
     "output_type": "execute_result"
    }
   ],
   "source": [
    "{'Product' : Product_id, 'Quantity' : Product_qunt, 'Amount': Record[Product_id]['Price'] * Product_qunt}"
   ]
  },
  {
   "cell_type": "code",
   "execution_count": 12,
   "metadata": {},
   "outputs": [],
   "source": [
    "Sales = {1:{'Product' : Product_id, 'Quantity' : Product_qunt, 'Amount': Record[Product_id]['Price'] * Product_qunt},\n",
    "         2:{'Product' : Product_id, 'Quantity' : Product_qunt, 'Amount': Record[Product_id]['Price'] * Product_qunt},\n",
    "         3:{'Product' : Product_id, 'Quantity' : Product_qunt, 'Amount': Record[Product_id]['Price'] * Product_qunt}\n",
    "         \n",
    "        }"
   ]
  },
  {
   "cell_type": "code",
   "execution_count": 13,
   "metadata": {},
   "outputs": [],
   "source": [
    "sale = json.dumps(Sales)\n",
    "fd = open(\"Sales.json\",'w')\n",
    "fd.write(sale)\n",
    "fd.close()"
   ]
  },
  {
   "cell_type": "code",
   "execution_count": 14,
   "metadata": {},
   "outputs": [
    {
     "data": {
      "text/plain": [
       "'{\"1\": {\"Product\": \"1017\", \"Quantity\": 50, \"Amount\": 110000}, \"2\": {\"Product\": \"1017\", \"Quantity\": 50, \"Amount\": 110000}, \"3\": {\"Product\": \"1017\", \"Quantity\": 50, \"Amount\": 110000}}'"
      ]
     },
     "execution_count": 14,
     "metadata": {},
     "output_type": "execute_result"
    }
   ],
   "source": [
    "sale"
   ]
  },
  {
   "cell_type": "code",
   "execution_count": null,
   "metadata": {},
   "outputs": [],
   "source": []
  }
 ],
 "metadata": {
  "kernelspec": {
   "display_name": "Python 3",
   "language": "python",
   "name": "python3"
  },
  "language_info": {
   "codemirror_mode": {
    "name": "ipython",
    "version": 3
   },
   "file_extension": ".py",
   "mimetype": "text/x-python",
   "name": "python",
   "nbconvert_exporter": "python",
   "pygments_lexer": "ipython3",
   "version": "3.8.5"
  }
 },
 "nbformat": 4,
 "nbformat_minor": 4
}
